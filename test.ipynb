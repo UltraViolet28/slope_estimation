{
 "cells": [
  {
   "cell_type": "code",
   "execution_count": 1,
   "metadata": {},
   "outputs": [
    {
     "name": "stderr",
     "output_type": "stream",
     "text": [
      "2023-07-06 22:52:12.957583: I tensorflow/core/util/util.cc:169] oneDNN custom operations are on. You may see slightly different numerical results due to floating-point round-off errors from different computation orders. To turn them off, set the environment variable `TF_ENABLE_ONEDNN_OPTS=0`.\n"
     ]
    }
   ],
   "source": [
    "import torch\n",
    "import torch.nn as nn\n",
    "import torch.nn.functional as F\n",
    "import numpy as np\n",
    "from tqdm import tqdm\n",
    "import sys\n",
    "from torch.utils.data import DataLoader, Dataset\n",
    "from torch.utils.tensorboard import SummaryWriter\n",
    "\n"
   ]
  },
  {
   "cell_type": "code",
   "execution_count": 2,
   "metadata": {},
   "outputs": [
    {
     "name": "stdout",
     "output_type": "stream",
     "text": [
      "cuda:0\n"
     ]
    }
   ],
   "source": [
    "device = torch.device(\"cuda:0\" if torch.cuda.is_available() else \"cpu\")\n",
    "print(device)"
   ]
  },
  {
   "cell_type": "code",
   "execution_count": 5,
   "metadata": {},
   "outputs": [
    {
     "name": "stdout",
     "output_type": "stream",
     "text": [
      "tensor([[ 0.0550,  1.1971,  0.9745,  1.5122,  0.5402],\n",
      "        [-0.6484,  0.8938,  1.1234,  0.8191,  1.0692],\n",
      "        [ 1.2203,  1.0927, -0.7158,  1.1697,  1.1498]], requires_grad=True) torch.Size([3, 5])\n",
      "tensor([4, 0, 0]) torch.Size([3])\n",
      "tensor(2.1582, grad_fn=<NllLossBackward0>)\n"
     ]
    }
   ],
   "source": [
    "\n",
    "criterion = nn.CrossEntropyLoss()\n",
    "\n",
    "# usage of criterion\n",
    "# loss = criterion(output, target)\n",
    "\n",
    "# example \n",
    "input = torch.randn(3, 5, requires_grad=True)\n",
    "\n",
    "target = torch.empty(3, dtype=torch.long).random_(5)\n",
    "\n",
    "print(input, input.shape)\n",
    "print(target, target.shape)\n",
    "\n",
    "loss = criterion(input, target)\n",
    "print(loss)\n",
    "\n"
   ]
  },
  {
   "cell_type": "code",
   "execution_count": 14,
   "metadata": {},
   "outputs": [
    {
     "name": "stdout",
     "output_type": "stream",
     "text": [
      "torch.Size([32, 1024, 2])\n",
      "torch.Size([32, 1024])\n",
      "torch.Size([32768, 2])\n",
      "torch.Size([32768])\n",
      "tensor(0.9010)\n"
     ]
    }
   ],
   "source": [
    "import torch\n",
    "import torch.nn as nn\n",
    "\n",
    "# Assuming your output and target tensors are already defined\n",
    "output = torch.randn(32, 1024, 2)\n",
    "target = torch.randint(0, 2, (32, 1024))  # Random target tensor for demonstration\n",
    "\n",
    "# Define the CrossEntropyLoss criterion\n",
    "criterion = nn.CrossEntropyLoss()\n",
    "\n",
    "print(output.shape)\n",
    "print(target.shape)\n",
    "\n",
    "\n",
    "# Calculate the loss\n",
    "loss = criterion(output.view(-1, 2), target.view(-1))\n",
    "\n",
    "print(output.view(-1, 2).shape)\n",
    "print(target.view(-1).shape)\n",
    "print(loss)\n",
    "\n"
   ]
  },
  {
   "cell_type": "code",
   "execution_count": 7,
   "metadata": {},
   "outputs": [
    {
     "name": "stdout",
     "output_type": "stream",
     "text": [
      "torch.Size([1024, 3])\n",
      "torch.Size([1024])\n",
      "torch.Size([1, 1024, 3])\n"
     ]
    }
   ],
   "source": [
    "from simple_model import PointNetSegmentation\n",
    "import torch \n",
    "import torch.nn as nn\n",
    "import torch.nn.functional as F\n",
    "import numpy as np\n",
    "\n",
    "#read data\n",
    "data = np.load('point_cloud_data_test.npz')\n",
    "\n",
    "# separate point cloud data into points and labels\n",
    "points = data['points']\n",
    "labels = data['labels']\n",
    "\n",
    "# visualize point cloud\n",
    "import open3d as o3d\n",
    "\n",
    "# Create Open3D point cloud\n",
    "pcd = o3d.geometry.PointCloud()\n",
    "pcd.points = o3d.utility.Vector3dVector(points)\n",
    "\n",
    "# Assign colors based on labels\n",
    "label_to_color = {1: [1, 0, 0], 0: [0, 1, 0]}\n",
    "colors = [label_to_color[label] for label in labels]\n",
    "pcd.colors = o3d.utility.Vector3dVector(colors)\n",
    "\n",
    "# Visualize the point cloud\n",
    "o3d.visualization.draw_geometries([pcd])\n",
    "\n",
    "\n",
    "\n",
    "# convert numpy array to tensor\n",
    "points = torch.from_numpy(points)\n",
    "labels = torch.from_numpy(labels)\n",
    "\n",
    "print(points.shape)\n",
    "print(labels.shape)\n",
    "\n",
    "# reshape points to (1, 1024, 3)\n",
    "points = points.reshape(1, 1024, 3)\n",
    "print(points.shape)\n",
    "\n"
   ]
  },
  {
   "cell_type": "code",
   "execution_count": 8,
   "metadata": {},
   "outputs": [
    {
     "name": "stdout",
     "output_type": "stream",
     "text": [
      "torch.Size([1, 3, 1024])\n",
      "torch.Size([1, 1024, 2])\n",
      "torch.Size([1, 1024])\n"
     ]
    }
   ],
   "source": [
    "model = PointNetSegmentation(num_classes=2)\n",
    "\n",
    "# load model\n",
    "model.load_state_dict(torch.load('model.pth'))\n",
    "model.to(device)\n",
    "\n",
    "# set model to evaluation mode\n",
    "model.eval()\n",
    "\n",
    "point_clouds_2 = points.transpose(2, 1).to(device).float()  # (batch_size, 3, num_points)\n",
    "print(point_clouds_2.shape)\n",
    "labels = labels.to(device)  # (batch_size, num_points)\n",
    "\n",
    "# Forward pass\n",
    "outputs = model(point_clouds_2)  # (batch_size, num_points, num_classes)\n",
    "predicted_labels = torch.argmax(outputs, dim=2)  # (batch_size, num_points)\n",
    "\n",
    "print(outputs.shape)\n",
    "print(predicted_labels.shape)\n",
    "\n",
    "# Convert tensors to numpy arrays\n",
    "points = points.cpu().numpy()\n",
    "predicted_labels = predicted_labels.cpu().numpy()\n"
   ]
  },
  {
   "cell_type": "code",
   "execution_count": 9,
   "metadata": {},
   "outputs": [
    {
     "name": "stdout",
     "output_type": "stream",
     "text": [
      "(1024, 3)\n",
      "(1024,)\n"
     ]
    }
   ],
   "source": [
    "import open3d\n",
    "\n",
    "# convert points to shape (1024, 3)\n",
    "points = points.reshape(1024, 3)\n",
    "print(points.shape)\n",
    "\n",
    "# convert predicted_labels to shape (1024,)\n",
    "predicted_labels = predicted_labels.reshape(1024,)\n",
    "print(predicted_labels.shape)\n",
    "\n",
    "# create point cloud with points\n",
    "point_cloud = open3d.geometry.PointCloud()\n",
    "point_cloud.points = open3d.utility.Vector3dVector(points)\n",
    "\n",
    "# assign colors to point cloud based on predicted labels\n",
    "color_palette = np.array([[0, 255, 0],  # Class 0 color (red)\n",
    "                            [255, 0, 0]])  # Class 1 color (blue)\n",
    "\n",
    "point_colors = color_palette[predicted_labels.reshape(-1)]\n",
    "\n",
    "# Assign colors to point cloud\n",
    "point_cloud.colors = open3d.utility.Vector3dVector(point_colors / 255.0)\n",
    "\n",
    "# Visualize the point cloud\n",
    "open3d.visualization.draw_geometries([point_cloud])\n",
    "\n",
    "\n"
   ]
  },
  {
   "cell_type": "code",
   "execution_count": null,
   "metadata": {},
   "outputs": [],
   "source": []
  }
 ],
 "metadata": {
  "kernelspec": {
   "display_name": "Python 3.8.10 64-bit",
   "language": "python",
   "name": "python3"
  },
  "language_info": {
   "codemirror_mode": {
    "name": "ipython",
    "version": 3
   },
   "file_extension": ".py",
   "mimetype": "text/x-python",
   "name": "python",
   "nbconvert_exporter": "python",
   "pygments_lexer": "ipython3",
   "version": "3.8.10"
  },
  "orig_nbformat": 4,
  "vscode": {
   "interpreter": {
    "hash": "767d51c1340bd893661ea55ea3124f6de3c7a262a8b4abca0554b478b1e2ff90"
   }
  }
 },
 "nbformat": 4,
 "nbformat_minor": 2
}
